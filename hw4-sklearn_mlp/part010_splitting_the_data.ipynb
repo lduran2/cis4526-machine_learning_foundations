{
 "cells": [
  {
   "cell_type": "code",
   "execution_count": null,

   "metadata": {},
   "outputs": [],
   "source": [
    "import numpy as np"
   ]
  },
  {
   "cell_type": "markdown",

   "metadata": {},
   "source": [
    "The data is stored in `3` files.\n",
    "1. `train.csv` numbers `18,304` samples and contains the training data including features and labels. \n",
    "2. `test.csv` numbers `4580` samples and contains the testing feature without labels.\n",
    "3. `sample.csv` number `4580` samples and contains the testing labels without features.\n",
    "\n",
    "Every file has table headers and ends in an empty line."
   ]
  },
  {
   "cell_type": "code",
   "execution_count": null,

   "metadata": {},
   "outputs": [],
   "source": [
    "DATA_DIR = r'dataset-in/'   # directory holding the data files\n",
    "# names of files holding dataset\n",
    "DATA_FILENAMES = {\\\n",
    "                  r'trainXy': r'train.csv',\\\n",
    "                  r'testX':   r'test.csv',\\\n",
    "                  r'test_y':  r'sample.csv',\\\n",
    "                 }\n",
    "DELIMITER = r','    # used to separate values in DATA_FILENAME"
   ]
  },
  {
   "cell_type": "code",
   "execution_count": null,

   "metadata": {},
   "outputs": [],
   "source": [
    "data = {}\n",
    "for datatype, file in DATA_FILENAMES.items():\n",
    "    data[datatype] = np.genfromtxt(\n",
    "        fr'{DATA_DIR}{file}', delimiter=DELIMITER,\n",
    "        skip_header=True, dtype=np.float64)\n"
   ]
  },
  {
   "cell_type": "code",
   "execution_count": null,

   "metadata": {},
   "outputs": [
    {
     "name": "stdout",
     "output_type": "stream",
     "text": [
      "trainXy \t   18304\n",
      "testX   \t    4580\n",
      "test_y  \t    4580\n"
     ]
    }
   ],
   "source": [
    "for datatype, array in data.items():\n",
    "    print(f'{datatype:8}\\t{len(array):8}')"
   ]
  }
 ],
 "metadata": {
  "kernelspec": {
   "display_name": "Python 3",
   "language": "python",
   "name": "python3"
  },
  "language_info": {
   "codemirror_mode": {
    "name": "ipython",
    "version": 3
   },
   "file_extension": ".py",
   "mimetype": "text/x-python",
   "name": "python",
   "nbconvert_exporter": "python",
   "pygments_lexer": "ipython3",
   "version": "3.8.8"
  }
 },
 "nbformat": 4,
 "nbformat_minor": 5
}
