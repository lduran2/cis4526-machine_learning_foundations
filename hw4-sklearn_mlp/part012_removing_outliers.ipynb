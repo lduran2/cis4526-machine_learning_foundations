{
 "cells": [
  {
   "cell_type": "code",
   "execution_count": null,

   "metadata": {},
   "outputs": [],
   "source": [
    "import numpy as np\n",
    "import part010_splitting_the_data as sd\n",
    "from part010_splitting_the_data import Axis"
   ]
  },
  {
   "cell_type": "markdown",

   "metadata": {},
   "source": [
    "Retrieve the data from sd."
   ]
  },
  {
   "cell_type": "code",
   "execution_count": null,

   "metadata": {},
   "outputs": [],
   "source": [
    "(outlier_trainX, train_y, testX, test_y) = sd.main()"
   ]
  },
  {
   "cell_type": "markdown",

   "metadata": {},
   "source": [
    "To find outliers, first we need to find the mean of the training data."
   ]
  },
  {
   "cell_type": "code",
   "execution_count": null,

   "metadata": {},
   "outputs": [],
   "source": [
    "means = outlier_trainX.mean(axis=Axis.COLS.value)"
   ]
  },
  {
   "cell_type": "markdown",

   "metadata": {},
   "source": [
    "Next we find the variance `Var[X] = E[X^2] - E^2[X]`"
   ]
  },
  {
   "cell_type": "code",
   "execution_count": null,

   "metadata": {},
   "outputs": [],
   "source": [
    "meanXsq = (outlier_trainX**2).mean(axis=Axis.COLS.value) # E[X^2]\n",
    "variance = meanXsq - means**2"
   ]
  },
  {
   "cell_type": "markdown",

   "metadata": {},
   "source": [
    "The standard deviation is the square root of the variance"
   ]
  },
  {
   "cell_type": "code",
   "execution_count": null,

   "metadata": {},
   "outputs": [],
   "source": [
    "stdev = np.sqrt(variance)"
   ]
  },
  {
   "cell_type": "markdown",

   "metadata": {},
   "source": [
    "To find the outliers, we center by the mean, and rescale by the standard deviation, giving the Z-score."
   ]
  },
  {
   "cell_type": "code",
   "execution_count": null,

   "metadata": {},
   "outputs": [],
   "source": [
    "z = (outlier_trainX - means)/stdev"
   ]
  },
  {
   "cell_type": "markdown",

   "metadata": {},
   "source": [
    "An Z-score with magnitude > 3 reveals an outlier, so remove any such values."
   ]
  },
  {
   "cell_type": "code",
   "execution_count": null,

   "metadata": {},
   "outputs": [],
   "source": [
    "not_outliers = np.all(abs(z) <= 3, axis=Axis.ROWS.value)\n",
    "trainX = outlier_trainX[not_outliers]"
   ]
  },
  {
   "cell_type": "code",
   "execution_count": null,

   "metadata": {},
   "outputs": [
    {
     "name": "stdout",
     "output_type": "stream",
     "text": [
      "removed 1244 outliers\n"
     ]
    }
   ],
   "source": [
    "print('removed', len(outlier_trainX) - len(trainX), 'outliers')"
   ]
  },
  {
   "cell_type": "code",
   "execution_count": null,

   "metadata": {},
   "outputs": [],
   "source": []
  }
 ],
 "metadata": {
  "kernelspec": {
   "display_name": "Python 3",
   "language": "python",
   "name": "python3"
  },
  "language_info": {
   "codemirror_mode": {
    "name": "ipython",
    "version": 3
   },
   "file_extension": ".py",
   "mimetype": "text/x-python",
   "name": "python",
   "nbconvert_exporter": "python",
   "pygments_lexer": "ipython3",
   "version": "3.8.8"
  }
 },
 "nbformat": 4,
 "nbformat_minor": 5
}
