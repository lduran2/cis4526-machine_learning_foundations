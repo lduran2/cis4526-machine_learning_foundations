{
 "cells": [
  {
   "cell_type": "code",
   "execution_count": null,

   "metadata": {},
   "outputs": [],
   "source": [
    "import numpy as np\n",
    "import part010_splitting_the_data as sd"
   ]
  },
  {
   "cell_type": "code",
   "execution_count": null,

   "metadata": {},
   "outputs": [],
   "source": [
    "def normalizeFeatures(unnormal_features):\n",
    "    r'''\n",
    "     Normalizes the given features\n",
    "     @param unnormal_features : 'numpy.ndarray' = to normalize\n",
    "     @return the given features normalized\n",
    "     '''\n",
    "    # center the data\n",
    "    means = unnormal_features.mean(axis=0)\n",
    "    centered = (unnormal_features - means)\n",
    "    # scale the data\n",
    "    absmaxa = np.amax(np.absolute(centered), axis=0)\n",
    "    scaled = (centered / absmaxa)\n",
    "    # 1 pad\n",
    "    num_examples = scaled.shape[0]\n",
    "    one_pad = np.ones((num_examples,1))\n",
    "    padded = np.concatenate((one_pad, scaled), axis=1)\n",
    "    return padded\n",
    "# end def normalizeFeatures()"
   ]
  }
 ],
 "metadata": {
  "kernelspec": {
   "display_name": "Python 3",
   "language": "python",
   "name": "python3"
  },
  "language_info": {
   "codemirror_mode": {
    "name": "ipython",
    "version": 3
   },
   "file_extension": ".py",
   "mimetype": "text/x-python",
   "name": "python",
   "nbconvert_exporter": "python",
   "pygments_lexer": "ipython3",
   "version": "3.8.8"
  }
 },
 "nbformat": 4,
 "nbformat_minor": 5
}
