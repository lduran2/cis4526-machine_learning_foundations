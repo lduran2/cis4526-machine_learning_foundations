{
 "cells": [
  {
   "cell_type": "markdown",

   "metadata": {},
   "source": [
    "**Disclaimer**: All of information and most of the code in this Notebook is taken or derived from https://scikit-learn.org/stable/modules/generated/sklearn.neural_network.MLPClassifier.html#sklearn.neural_network.MLPClassifier"
   ]
  },
  {
   "cell_type": "code",
   "execution_count": null,

   "metadata": {},
   "outputs": [],
   "source": [
    "import numpy as np\n",
    "from sklearn.neural_network import MLPClassifier"
   ]
  },
  {
   "cell_type": "markdown",

   "metadata": {},
   "source": [
    "MLP trains on two arrays: array X of size (n_samples, n_features), which holds the training samples represented as floating point feature vectors; and array y of size (n_samples,), which holds the target values (class labels) for the training samples:"
   ]
  },
  {
   "cell_type": "code",
   "execution_count": null,

   "metadata": {},
   "outputs": [],
   "source": [
    "X = ((0., 0.), (1., 1.))\n",
    "testX = ((2., 2.), (-1., -2.))"
   ]
  },
  {
   "cell_type": "markdown",

   "metadata": {},
   "source": [
    "Further, the model supports [multi-label classification](https://scikit-learn.org/stable/modules/multiclass.html#multiclass) in which a sample can belong to more than one class. "
   ]
  },
  {
   "cell_type": "code",
   "execution_count": null,

   "metadata": {},
   "outputs": [],
   "source": [
    "multipleLabels = False"
   ]
  },
  {
   "cell_type": "code",
   "execution_count": null,

   "metadata": {},
   "outputs": [],
   "source": [
    "if not(multipleLabels):\n",
    "    y = (0, 1)\n",
    "    hidden_layer_sizes = (5, 2)\n",
    "else:\n",
    "    y = ((0, 1), (1, 1))\n",
    "    hidden_layer_sizes = (15,)"
   ]
  },
  {
   "cell_type": "code",
   "execution_count": null,

   "metadata": {},
   "outputs": [
    {
     "data": {
      "text/plain": [
       "MLPClassifier(alpha=1e-05, hidden_layer_sizes=(5, 2), random_state=1,\n",
       "              solver='lbfgs')"
      ]
     },
     "execution_count": null,
     "metadata": {},
     "output_type": "execute_result"
    }
   ],
   "source": [
    "clf = MLPClassifier(solver='lbfgs', alpha=1e-5, \\\n",
    "                    hidden_layer_sizes=hidden_layer_sizes, \\\n",
    "                    random_state=1)\n",
    "clf.fit(X, y)"
   ]
  },
  {
   "cell_type": "markdown",

   "metadata": {},
   "source": [
    "After fitting (training), the model can predict labels for new samples:"
   ]
  },
  {
   "cell_type": "code",
   "execution_count": null,

   "metadata": {
    "scrolled": true
   },
   "outputs": [
    {
     "data": {
      "text/plain": [
       "array([1, 0])"
      ]
     },
     "execution_count": null,
     "metadata": {},
     "output_type": "execute_result"
    }
   ],
   "source": [
    "clf.predict(testX)"
   ]
  },
  {
   "cell_type": "markdown",

   "metadata": {},
   "source": [
    "`coefs_` is a list of weight matrices, where weight matrix at index `i` represents the weights between layer `i` and layer `i + 1`. "
   ]
  },
  {
   "cell_type": "code",
   "execution_count": null,

   "metadata": {},
   "outputs": [
    {
     "data": {
      "text/plain": [
       "[array([[-0.14196276, -0.02104562, -0.85522848, -3.51355396, -0.60434709],\n",
       "        [-0.69744683, -0.9347486 , -0.26422217, -3.35199017,  0.06640954]]),\n",
       " array([[ 0.29164405, -0.14147894],\n",
       "        [ 2.39665167, -0.6152434 ],\n",
       "        [-0.51650256,  0.51452834],\n",
       "        [ 4.0186541 , -0.31920293],\n",
       "        [ 0.32903482,  0.64394475]]),\n",
       " array([[-4.53025854],\n",
       "        [-0.86285329]])]"
      ]
     },
     "execution_count": null,
     "metadata": {},
     "output_type": "execute_result"
    }
   ],
   "source": [
    "clf.coefs_"
   ]
  },
  {
   "cell_type": "code",
   "execution_count": null,

   "metadata": {},
   "outputs": [
    {
     "data": {
      "text/plain": [
       "((2, 5), (5, 2), (2, 1))"
      ]
     },
     "execution_count": null,
     "metadata": {},
     "output_type": "execute_result"
    }
   ],
   "source": [
    "tuple([coef.shape for coef in clf.coefs_])"
   ]
  },
  {
   "cell_type": "markdown",

   "metadata": {},
   "source": [
    "Apply each layer without an activation function."
   ]
  },
  {
   "cell_type": "code",
   "execution_count": null,

   "metadata": {},
   "outputs": [],
   "source": [
    "def ReLU(x):\n",
    "    return max(0, x)"
   ]
  },
  {
   "cell_type": "code",
   "execution_count": null,

   "metadata": {},
   "outputs": [
    {
     "name": "stdout",
     "output_type": "stream",
     "text": [
      "[array([[0.],\n",
      "       [0.]]), array([[0.],\n",
      "       [0.]])]\n"
     ]
    }
   ],
   "source": [
    "predictions = [X, testX]\n",
    "activate = np.vectorize(ReLU)\n",
    "for idx, prediction in enumerate(predictions):\n",
    "    predictions[idx] = np.array(predictions[idx])\n",
    "    for coef in (clf.coefs_):\n",
    "        #print(predictions[idx])\n",
    "        # apply the activation function\n",
    "        predictions[idx] = activate(predictions[idx])\n",
    "        #print(predictions[idx])\n",
    "        # multiply by the weights\n",
    "        predictions[idx] = np.dot(predictions[idx], coef)\n",
    "        #print(predictions[idx])\n",
    "print(predictions)\n"
   ]
  },
  {
   "cell_type": "code",
   "execution_count": null,

   "metadata": {},
   "outputs": [
    {
     "data": {
      "text/plain": [
       "array([[1.96718015e-004, 9.99803282e-001],\n",
       "       [1.00000000e+000, 4.67017947e-144]])"
      ]
     },
     "execution_count": null,
     "metadata": {},
     "output_type": "execute_result"
    }
   ],
   "source": [
    "clf.predict_proba(testX)"
   ]
  }
 ],
 "metadata": {
  "kernelspec": {
   "display_name": "Python 3",
   "language": "python",
   "name": "python3"
  },
  "language_info": {
   "codemirror_mode": {
    "name": "ipython",
    "version": 3
   },
   "file_extension": ".py",
   "mimetype": "text/x-python",
   "name": "python",
   "nbconvert_exporter": "python",
   "pygments_lexer": "ipython3",
   "version": "3.8.8"
  }
 },
 "nbformat": 4,
 "nbformat_minor": 5
}
